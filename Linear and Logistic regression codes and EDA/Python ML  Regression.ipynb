{
 "cells": [
  {
   "cell_type": "code",
   "execution_count": 1,
   "metadata": {},
   "outputs": [],
   "source": [
    "import numpy as np\n",
    "import matplotlib.pyplot as plt"
   ]
  },
  {
   "cell_type": "markdown",
   "metadata": {},
   "source": [
    "We will create a vector Y and also create a data matrix X and using the results of OLS we will compute the  beta coefficients for a regression model $Y = b_0+b_1x_1$"
   ]
  },
  {
   "cell_type": "code",
   "execution_count": 2,
   "metadata": {
    "collapsed": true
   },
   "outputs": [],
   "source": [
    "import pandas as pd\n",
    "from pandas import DataFrame, Series"
   ]
  },
  {
   "cell_type": "code",
   "execution_count": 3,
   "metadata": {},
   "outputs": [],
   "source": [
    "data=pd.read_csv('E:\\\\Work\\\\Machine Learning Course\\\\Python\\\\Module 2 Linear Regression\\\\Data\\\\regression.csv')"
   ]
  },
  {
   "cell_type": "code",
   "execution_count": 4,
   "metadata": {},
   "outputs": [],
   "source": [
    "data.columns\n",
    "%matplotlib inline"
   ]
  },
  {
   "cell_type": "code",
   "execution_count": 5,
   "metadata": {},
   "outputs": [
    {
     "name": "stdout",
     "output_type": "stream",
     "text": [
      "         x1        x2          y\n",
      "0 -0.635764  0.241162 -32.718033\n",
      "1  0.644243  0.425391  59.923622\n",
      "2 -0.407295  0.865839   7.470409\n",
      "3 -0.551043  1.673688  30.181461\n",
      "4  1.354318 -0.459583  71.860641\n"
     ]
    }
   ],
   "source": [
    "print(data.head())"
   ]
  },
  {
   "cell_type": "code",
   "execution_count": 6,
   "metadata": {
    "collapsed": true
   },
   "outputs": [],
   "source": [
    "Y=data.y"
   ]
  },
  {
   "cell_type": "code",
   "execution_count": 7,
   "metadata": {
    "collapsed": true
   },
   "outputs": [],
   "source": [
    "data['Ones']=np.repeat(1,data.shape[0])"
   ]
  },
  {
   "cell_type": "code",
   "execution_count": 8,
   "metadata": {},
   "outputs": [
    {
     "name": "stdout",
     "output_type": "stream",
     "text": [
      "         x1        x2          y  Ones\n",
      "0 -0.635764  0.241162 -32.718033     1\n",
      "1  0.644243  0.425391  59.923622     1\n",
      "2 -0.407295  0.865839   7.470409     1\n",
      "3 -0.551043  1.673688  30.181461     1\n",
      "4  1.354318 -0.459583  71.860641     1\n"
     ]
    }
   ],
   "source": [
    "print(data.head())"
   ]
  },
  {
   "cell_type": "code",
   "execution_count": 10,
   "metadata": {},
   "outputs": [],
   "source": [
    "X=data[['Ones','x1']]"
   ]
  },
  {
   "cell_type": "markdown",
   "metadata": {},
   "source": [
    "We are fitting a model, $Sales=b_0+b_1Tv+b_2Radio+b_3Newspaper$"
   ]
  },
  {
   "cell_type": "code",
   "execution_count": 11,
   "metadata": {},
   "outputs": [
    {
     "name": "stdout",
     "output_type": "stream",
     "text": [
      "   Ones        x1\n",
      "0     1 -0.635764\n",
      "1     1  0.644243\n",
      "2     1 -0.407295\n",
      "3     1 -0.551043\n",
      "4     1  1.354318\n"
     ]
    }
   ],
   "source": [
    "print(X.head())"
   ]
  },
  {
   "cell_type": "code",
   "execution_count": 12,
   "metadata": {},
   "outputs": [
    {
     "name": "stdout",
     "output_type": "stream",
     "text": [
      "0   -32.718033\n",
      "1    59.923622\n",
      "2     7.470409\n",
      "3    30.181461\n",
      "4    71.860641\n",
      "Name: y, dtype: float64\n"
     ]
    }
   ],
   "source": [
    "print(Y.head())"
   ]
  },
  {
   "cell_type": "markdown",
   "metadata": {},
   "source": [
    "$Hessian=(X^TX)^-1$"
   ]
  },
  {
   "cell_type": "code",
   "execution_count": 13,
   "metadata": {},
   "outputs": [],
   "source": [
    "Hessian=np.linalg.inv(np.matmul(X.T,X))"
   ]
  },
  {
   "cell_type": "markdown",
   "metadata": {},
   "source": [
    "$x=X^TY$"
   ]
  },
  {
   "cell_type": "code",
   "execution_count": 14,
   "metadata": {},
   "outputs": [],
   "source": [
    "x=np.matmul(X.T,Y)"
   ]
  },
  {
   "cell_type": "markdown",
   "metadata": {},
   "source": [
    "$\\hat{\\beta}=Hessian \\times x$"
   ]
  },
  {
   "cell_type": "code",
   "execution_count": 15,
   "metadata": {},
   "outputs": [],
   "source": [
    "beta=np.matmul(Hessian,x)"
   ]
  },
  {
   "cell_type": "code",
   "execution_count": 16,
   "metadata": {},
   "outputs": [
    {
     "data": {
      "text/plain": [
       "array([ -1.06851916,  65.04668995])"
      ]
     },
     "execution_count": 16,
     "metadata": {},
     "output_type": "execute_result"
    }
   ],
   "source": [
    "beta"
   ]
  },
  {
   "cell_type": "markdown",
   "metadata": {
    "collapsed": true
   },
   "source": [
    "We can get the predictions by computing the $\\hat{y}$ from the computed $\\hat{\\beta}$ and $X$"
   ]
  },
  {
   "cell_type": "code",
   "execution_count": 17,
   "metadata": {
    "collapsed": true
   },
   "outputs": [],
   "source": [
    "Y_hat=np.matmul(X,beta)"
   ]
  },
  {
   "cell_type": "markdown",
   "metadata": {},
   "source": [
    "RSS can be computed as $(\\hat{y}-Y)^2$"
   ]
  },
  {
   "cell_type": "code",
   "execution_count": 18,
   "metadata": {
    "collapsed": true
   },
   "outputs": [],
   "source": [
    "RSS=np.sum((Y_hat-Y)**2)"
   ]
  },
  {
   "cell_type": "code",
   "execution_count": 19,
   "metadata": {},
   "outputs": [
    {
     "data": {
      "text/plain": [
       "1472501.4756470234"
      ]
     },
     "execution_count": 19,
     "metadata": {},
     "output_type": "execute_result"
    }
   ],
   "source": [
    "RSS"
   ]
  },
  {
   "cell_type": "markdown",
   "metadata": {
    "collapsed": true
   },
   "source": [
    "Every time we might not want to compute the $\\beta$ vector using first principles, there  are python libraries such as scikitlearn that help us in estimating $\\beta$ vector"
   ]
  },
  {
   "cell_type": "code",
   "execution_count": 20,
   "metadata": {
    "collapsed": true
   },
   "outputs": [],
   "source": [
    "import sklearn.linear_model as linear_model"
   ]
  },
  {
   "cell_type": "code",
   "execution_count": 21,
   "metadata": {},
   "outputs": [],
   "source": [
    "reg=linear_model.LinearRegression(fit_intercept=True)"
   ]
  },
  {
   "cell_type": "code",
   "execution_count": 22,
   "metadata": {},
   "outputs": [],
   "source": [
    "reg=reg.fit(X.drop('Ones',axis=1),Y)"
   ]
  },
  {
   "cell_type": "code",
   "execution_count": 23,
   "metadata": {},
   "outputs": [
    {
     "name": "stdout",
     "output_type": "stream",
     "text": [
      "[ 65.04668995]\n"
     ]
    }
   ],
   "source": [
    "print(reg.coef_)"
   ]
  },
  {
   "cell_type": "code",
   "execution_count": 24,
   "metadata": {},
   "outputs": [
    {
     "name": "stdout",
     "output_type": "stream",
     "text": [
      "[-1.0685191599872255]\n"
     ]
    }
   ],
   "source": [
    "print([reg.intercept_])"
   ]
  },
  {
   "cell_type": "markdown",
   "metadata": {
    "collapsed": true
   },
   "source": [
    "We will impliment gradient descent to minimize our cost function $RSS(\\beta)$. Let us list down the steps:\n",
    "1. Decide on the learning rate,lets call it $\\eta$, keep it small $10^-3 to 10^-6$\n",
    "2. Compute the gradient of $RSS(\\beta)$, this will equal $-2X^T(y-X\\beta) = -2X^T(y-\\hat{y})=-2X^T(Error)$\n",
    "3. Compute the differntial in $\\beta$ as $\\delta\\beta= -\\eta (2X^T(Error))$\n",
    "4. Update $\\beta$ as $\\beta_{new}=\\beta_{old}+\\delta\\beta$\n",
    "4. Keep on doing this until n_iters are exhausted or difference between succesive costs is less than some level of tolerance"
   ]
  },
  {
   "cell_type": "code",
   "execution_count": 25,
   "metadata": {},
   "outputs": [],
   "source": [
    "def gradientDescent(X,y,n_iter,eta=0.001):\n",
    "    beta=np.ones(X.shape[1])\n",
    "    cost_history=[]\n",
    "    converged=False\n",
    "    for i in range(n_iter):\n",
    "        if converged==True:\n",
    "            break\n",
    "        y_hat=np.matmul(X,beta)\n",
    "        Error=y-y_hat\n",
    "        J=np.sum(Error**2)\n",
    "        Gradient=-2*np.matmul(X.T,Error)\n",
    "        beta=beta-eta*Gradient# Beta update\n",
    "        cost_history.append(J)\n",
    "        if i>1:\n",
    "            if abs(cost_history[i]-cost_history[i-1])<=0.0003:\n",
    "                converged=True\n",
    "    print(converged)\n",
    "    plt.plot(np.arange(i),np.array(cost_history),'-r')\n",
    "    plt.ylim(ymin=0,ymax=1000)\n",
    "    print(\"cost in %sth iteration is %f\"%(i+1,J))\n",
    "    print(\"cost in 1st iteration is %f\"%cost_history[0])\n",
    "    return beta\n",
    "    "
   ]
  },
  {
   "cell_type": "code",
   "execution_count": 26,
   "metadata": {},
   "outputs": [
    {
     "name": "stdout",
     "output_type": "stream",
     "text": [
      "True\n",
      "cost in 39234th iteration is 1472502.238479\n",
      "cost in 1st iteration is 5541205.077211\n"
     ]
    },
    {
     "data": {
      "text/plain": [
       "array([ -1.06259162,  65.01946737])"
      ]
     },
     "execution_count": 26,
     "metadata": {},
     "output_type": "execute_result"
    },
    {
     "data": {
      "image/png": "[encoded data removed]",
      "text/plain": [
       "<matplotlib.figure.Figure at 0x2c230babf60>"
      ]
     },
     "metadata": {},
     "output_type": "display_data"
    }
   ],
   "source": [
    "gradientDescent(X,y=Y,n_iter=100000,eta=0.0000001)"
   ]
  },
  {
   "cell_type": "markdown",
   "metadata": {
    "collapsed": true
   },
   "source": [
    "Let's impliment a very naive version of Stochastic Gradient Descent, here again the aim is to minimize $RSS(\\beta)$\n",
    "1. Decide on the learning rate, $\\eta$ and also decide on the number of epochs or iterations\n",
    "2. In each iteration compute $\\beta$, $\\delta\\beta$ and the $\\bigtriangledown RSS(\\beta)$\n",
    "3. Stop when the number of iterations exhaust or convergence is reached"
   ]
  },
  {
   "cell_type": "code",
   "execution_count": 27,
   "metadata": {},
   "outputs": [],
   "source": [
    "def sgd(d,n_iter,eta,s):\n",
    "    beta=np.ones(d.shape[1]-1)\n",
    "    cost_history=[]\n",
    "    for i in range(n_iter):\n",
    "        Data_Sample=d.sample(frac=s)\n",
    "        y=Data_Sample['Y']\n",
    "        x=Data_Sample.drop('Y',axis=1)\n",
    "        y_hat=np.matmul(x,beta)\n",
    "        Error=y-y_hat\n",
    "        J=np.sum(Error**2)\n",
    "        Gradient=-2*np.matmul(x.T,Error)\n",
    "        beta=beta-eta*Gradient\n",
    "        cost_history.append(J)\n",
    "    plt.plot(np.arange(n_iter),np.array(cost_history),'-r')\n",
    "    plt.ylim(ymin=0,ymax=1000)\n",
    "    print(\"cost in %sth iteration is %f\"%(i+1,J))\n",
    "    print(\"cost in 1st iteration is %f\"%cost_history[0])\n",
    "    return beta"
   ]
  },
  {
   "cell_type": "code",
   "execution_count": 30,
   "metadata": {},
   "outputs": [],
   "source": [
    "X_d=X.copy()\n",
    "X_d['Y']=Y"
   ]
  },
  {
   "cell_type": "code",
   "execution_count": 31,
   "metadata": {
    "scrolled": true
   },
   "outputs": [
    {
     "name": "stdout",
     "output_type": "stream",
     "text": [
      "cost in 100000th iteration is 870684.406846\n",
      "cost in 1st iteration is 3363550.340009\n"
     ]
    },
    {
     "data": {
      "text/plain": [
       "array([ -1.04794857,  65.03263145])"
      ]
     },
     "execution_count": 31,
     "metadata": {},
     "output_type": "execute_result"
    },
    {
     "data": {
      "image/png": "[encoded data removed]",
      "text/plain": [
       "<matplotlib.figure.Figure at 0x2c236e96080>"
      ]
     },
     "metadata": {},
     "output_type": "display_data"
    }
   ],
   "source": [
    "sgd(d=X_d,n_iter=100000,eta=0.0000001,s=0.6)"
   ]
  },
  {
   "cell_type": "code",
   "execution_count": null,
   "metadata": {},
   "outputs": [],
   "source": []
  },
  {
   "cell_type": "code",
   "execution_count": null,
   "metadata": {
    "collapsed": true
   },
   "outputs": [],
   "source": []
  },
  {
   "cell_type": "code",
   "execution_count": null,
   "metadata": {
    "collapsed": true
   },
   "outputs": [],
   "source": []
  },
  {
   "cell_type": "code",
   "execution_count": null,
   "metadata": {
    "collapsed": true
   },
   "outputs": [],
   "source": []
  },
  {
   "cell_type": "code",
   "execution_count": null,
   "metadata": {
    "collapsed": true
   },
   "outputs": [],
   "source": []
  },
  {
   "cell_type": "code",
   "execution_count": null,
   "metadata": {},
   "outputs": [],
   "source": []
  },
  {
   "cell_type": "code",
   "execution_count": null,
   "metadata": {},
   "outputs": [],
   "source": []
  },
  {
   "cell_type": "code",
   "execution_count": null,
   "metadata": {
    "collapsed": true
   },
   "outputs": [],
   "source": []
  }
 ],
 "metadata": {
  "kernelspec": {
   "display_name": "Python 3",
   "language": "python",
   "name": "python3"
  },
  "language_info": {
   "codemirror_mode": {
    "name": "ipython",
    "version": 3
   },
   "file_extension": ".py",
   "mimetype": "text/x-python",
   "name": "python",
   "nbconvert_exporter": "python",
   "pygments_lexer": "ipython3",
   "version": "3.6.2"
  }
 },
 "nbformat": 4,
 "nbformat_minor": 1
}
