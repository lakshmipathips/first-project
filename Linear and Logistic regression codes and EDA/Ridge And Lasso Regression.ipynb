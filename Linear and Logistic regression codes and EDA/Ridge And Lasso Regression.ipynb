{
 "cells": [
  {
   "cell_type": "code",
   "execution_count": 1,
   "metadata": {
    "collapsed": true
   },
   "outputs": [],
   "source": [
    "import numpy as np\n",
    "import os\n",
    "import pandas as pd\n",
    "from pandas import DataFrame,Series\n",
    "import matplotlib.pyplot as plt\n",
    "%matplotlib inline"
   ]
  },
  {
   "cell_type": "code",
   "execution_count": 2,
   "metadata": {
    "collapsed": true
   },
   "outputs": [],
   "source": [
    "data=pd.read_csv('E:\\\\Work\\\\Machine Learning Course\\\\Python\\\\Module 2 Linear Regression\\\\Data\\\\Advertising.csv')"
   ]
  },
  {
   "cell_type": "code",
   "execution_count": 3,
   "metadata": {},
   "outputs": [
    {
     "name": "stdout",
     "output_type": "stream",
     "text": [
      "   Unnamed: 0     TV  Radio  Newspaper  Sales\n",
      "0           1  230.1   37.8       69.2   22.1\n",
      "1           2   44.5   39.3       45.1   10.4\n",
      "2           3   17.2   45.9       69.3    9.3\n",
      "3           4  151.5   41.3       58.5   18.5\n",
      "4           5  180.8   10.8       58.4   12.9\n"
     ]
    }
   ],
   "source": [
    "print(data.head())"
   ]
  },
  {
   "cell_type": "code",
   "execution_count": 4,
   "metadata": {
    "collapsed": true
   },
   "outputs": [],
   "source": [
    "X=data[['TV','Radio','Newspaper']]\n",
    "Y=data['Sales']"
   ]
  },
  {
   "cell_type": "markdown",
   "metadata": {},
   "source": [
    "We will now take a look at scikitlearn's API implimenting Ridge regression, remember that the cost function to be minimised while implimenting ridge regression is $RSS(\\beta)+C(\\beta)=RSS(\\beta)+\\lambda(\\Sigma\\beta_i^2)$, $\\lambda$ is represented by $\\alpha$ in scikitlearn's api"
   ]
  },
  {
   "cell_type": "code",
   "execution_count": 5,
   "metadata": {
    "collapsed": true
   },
   "outputs": [],
   "source": [
    "import sklearn.linear_model as linear_model"
   ]
  },
  {
   "cell_type": "code",
   "execution_count": 6,
   "metadata": {
    "collapsed": true
   },
   "outputs": [],
   "source": [
    "clf=linear_model.Ridge(alpha=0,fit_intercept=True)"
   ]
  },
  {
   "cell_type": "code",
   "execution_count": 7,
   "metadata": {
    "collapsed": true
   },
   "outputs": [],
   "source": [
    "clf=clf.fit(X,Y)"
   ]
  },
  {
   "cell_type": "code",
   "execution_count": 8,
   "metadata": {},
   "outputs": [
    {
     "name": "stdout",
     "output_type": "stream",
     "text": [
      "[array([ 0.04576465,  0.18853002, -0.00103749]), 2.9388893694594209]\n"
     ]
    }
   ],
   "source": [
    "print([clf.coef_,clf.intercept_])"
   ]
  },
  {
   "cell_type": "code",
   "execution_count": 9,
   "metadata": {},
   "outputs": [
    {
     "name": "stdout",
     "output_type": "stream",
     "text": [
      "[array([  4.75366399e-10,   2.02495781e-09,   5.46930973e-10]), 14.02249986628139]\n"
     ]
    }
   ],
   "source": [
    "clf=linear_model.Ridge(alpha=10**8,fit_intercept=True,normalize=True)\n",
    "clf=clf.fit(X,Y)\n",
    "print([clf.coef_,clf.intercept_])"
   ]
  },
  {
   "cell_type": "markdown",
   "metadata": {},
   "source": [
    "Let's take a look at the Lasso, the cost function will be $RSS(\\beta)+C(\\beta)=RSS(\\beta)+\\lambda(\\Sigma|\\beta_i|)$"
   ]
  },
  {
   "cell_type": "code",
   "execution_count": 10,
   "metadata": {},
   "outputs": [
    {
     "name": "stdout",
     "output_type": "stream",
     "text": [
      "[array([ 0.04576465,  0.18853002, -0.00103749]), 2.9388893694594191]\n"
     ]
    },
    {
     "name": "stderr",
     "output_type": "stream",
     "text": [
      "C:\\ProgramData\\Anaconda2\\envs\\python36\\lib\\site-packages\\ipykernel_launcher.py:2: UserWarning: With alpha=0, this algorithm does not converge well. You are advised to use the LinearRegression estimator\n",
      "  \n",
      "C:\\ProgramData\\Anaconda2\\envs\\python36\\lib\\site-packages\\sklearn\\linear_model\\coordinate_descent.py:477: UserWarning: Coordinate descent with no regularization may lead to unexpected results and is discouraged.\n",
      "  positive)\n",
      "C:\\ProgramData\\Anaconda2\\envs\\python36\\lib\\site-packages\\sklearn\\linear_model\\coordinate_descent.py:491: ConvergenceWarning: Objective did not converge. You might want to increase the number of iterations. Fitting data with very small alpha may cause precision problems.\n",
      "  ConvergenceWarning)\n"
     ]
    }
   ],
   "source": [
    "clf=linear_model.Lasso(alpha=0,fit_intercept=True)\n",
    "clf=clf.fit(X,Y)\n",
    "print([clf.coef_,clf.intercept_])"
   ]
  },
  {
   "cell_type": "code",
   "execution_count": 11,
   "metadata": {},
   "outputs": [
    {
     "name": "stdout",
     "output_type": "stream",
     "text": [
      "[array([ 0.01444374,  0.00693251,  0.        ]), 11.737378994017012, <bound method BaseEstimator.get_params of Lasso(alpha=0.2, copy_X=True, fit_intercept=True, max_iter=1000,\n",
      "   normalize=True, positive=False, precompute=False, random_state=None,\n",
      "   selection='cyclic', tol=0.0001, warm_start=False)>]\n"
     ]
    }
   ],
   "source": [
    "clf=linear_model.Lasso(alpha=0.2,fit_intercept=True,normalize=True)\n",
    "clf=clf.fit(X,Y)\n",
    "print([clf.coef_,clf.intercept_,clf.get_params])"
   ]
  },
  {
   "cell_type": "code",
   "execution_count": 12,
   "metadata": {},
   "outputs": [
    {
     "name": "stdout",
     "output_type": "stream",
     "text": [
      "[array([ 0.,  0.,  0.]), 14.022500000000001]\n"
     ]
    }
   ],
   "source": [
    "clf=linear_model.Lasso(alpha=50,fit_intercept=True,normalize=True) \n",
    "clf=clf.fit(X,Y)\n",
    "print([clf.coef_,clf.intercept_])"
   ]
  },
  {
   "cell_type": "markdown",
   "metadata": {},
   "source": [
    "Scikitlearn impliments a hybrid regularization scheme called \"elastic net\", the cost function in this case is $RSS(\\beta)+\\lambda L_1Ratio\\sum|\\beta_i|+\\lambda(1-L_1Ratio)\\sum\\beta_i^2$"
   ]
  },
  {
   "cell_type": "code",
   "execution_count": 13,
   "metadata": {},
   "outputs": [
    {
     "name": "stdout",
     "output_type": "stream",
     "text": [
      "[array([ 0.,  0.,  0.]), 14.022500000000001]\n"
     ]
    }
   ],
   "source": [
    "clf=linear_model.ElasticNet(fit_intercept=True,alpha=0.5,l1_ratio=0.9,normalize=True) ## L1 norm is more strong\n",
    "clf=clf.fit(X,Y)\n",
    "print([clf.coef_,clf.intercept_])"
   ]
  },
  {
   "cell_type": "code",
   "execution_count": 14,
   "metadata": {},
   "outputs": [
    {
     "name": "stdout",
     "output_type": "stream",
     "text": [
      "[array([ 0.00043143,  0.00169768,  0.00023778]), 13.912301244981792]\n"
     ]
    }
   ],
   "source": [
    "clf=linear_model.ElasticNet(fit_intercept=True,alpha=0.5,l1_ratio=0.1,normalize=True) ##More of a ridge regression, l2 norm is strong\n",
    "clf=clf.fit(X,Y)\n",
    "print([clf.coef_,clf.intercept_])"
   ]
  },
  {
   "cell_type": "markdown",
   "metadata": {},
   "source": [
    "Here are a few observations:\n",
    "1. Lasso estimates can be zero if $\\lambda$ is large, while in the case of ridge $\\beta\\rightarrow 0$ but is never equal to 0, no matter how big the $\\lambda$ is\n",
    "2. Lasso can be used to select variables!!!\n",
    "3. How should we select $\\lambda$ or $\\alpha$ ?"
   ]
  }
 ],
 "metadata": {
  "kernelspec": {
   "display_name": "Python 3",
   "language": "python",
   "name": "python3"
  },
  "language_info": {
   "codemirror_mode": {
    "name": "ipython",
    "version": 3
   },
   "file_extension": ".py",
   "mimetype": "text/x-python",
   "name": "python",
   "nbconvert_exporter": "python",
   "pygments_lexer": "ipython3",
   "version": "3.7.3"
  }
 },
 "nbformat": 4,
 "nbformat_minor": 2
}
